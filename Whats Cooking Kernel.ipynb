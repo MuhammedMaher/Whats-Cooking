{
 "cells": [
  {
   "cell_type": "markdown",
   "metadata": {},
   "source": [
    "# What's Cooking?\n",
    "**Use recipe ingredients to categorize the cuisine**\n",
    "\n",
    "------------------------------------------------------------------------------\n",
    "\n",
    "**By** [**Mohamed Maher**](https://www.linkedin.com/in/mohamedmaher17/) **June-2020**."
   ]
  },
  {
   "cell_type": "markdown",
   "metadata": {},
   "source": [
    "# Table of Contents"
   ]
  },
  {
   "cell_type": "markdown",
   "metadata": {},
   "source": [
    "- [Introduction](#Introduction)\n",
    "- [Data Type and Attributes](#Data-Type-and-Attributes)\n",
    "- [Environment and Configurations](#Environment-and-Configurations)\n",
    "- [Data Loading](#Data-Loading)\n",
    "- [Data Exploration](#Data-Exploration)\n",
    "- [Data Pipeline](#Data-Pipeline)\n",
    "    - [Pipeline Introduction](#Pipeline-Introduction) \n",
    "    - [Data Preprocessing](#Data-Preprocessing)\n",
    "    - [Feature Extraction](#Feature-Extraction)\n",
    "    - [Data Classifiers (ML Models)](#Data-Classifiers-(ML-Models))\n",
    "    - [Pipelines](#Pipelines)\n",
    "- [Training and Validation](#Training-and-Validation)\n",
    "- [Grid Search](#Grid-Search)\n",
    "- [Train Best Model Again](#Train-Best-Model-Again)\n",
    "- [Submission File](#Submission-File)"
   ]
  },
  {
   "cell_type": "markdown",
   "metadata": {},
   "source": [
    "## Introduction"
   ]
  },
  {
   "cell_type": "markdown",
   "metadata": {},
   "source": [
    "In this Notebook, I gonna discuss [What's Cooking?](https://www.kaggle.com/c/whats-cooking/overview) challenge on [Kaggle](https://www.kaggle.com/). simply it is a classification problem, based on ingredients, we should classify the type of cuisine.\n",
    "\n",
    "In this kernel I will tell you how **81%** accuracy model achived !!.\n",
    "\n",
    "Let's start .. 🤩"
   ]
  },
  {
   "cell_type": "markdown",
   "metadata": {},
   "source": [
    "## Data Type and Attributes"
   ]
  },
  {
   "cell_type": "markdown",
   "metadata": {},
   "source": [
    "Challenge provided [data](https://www.kaggle.com/c/whats-cooking/data) are splitted into two files **(train/test)** in [JSON](https://en.wikipedia.org/wiki/JSON) format.\n",
    "\n",
    "Here we gonna use train file as **training** and **validation** data, as test file is for kaggle final submission only ***(no label exists)***.\n",
    "\n",
    "Train file:\n",
    "\n",
    "- **``id``**: recipes id\n",
    "- **``cuisine``**: type of cuisine (i.e. indian, greek .. etc)\n",
    "- **``ingredients``**: list of ingredients (i.e. water, oil, wheat .. etc)\n",
    "\n",
    "Sample row of Train File:\n",
    "> { <br/>\n",
    "> \"id\": 24717, <br/>\n",
    "> \"cuisine\": \"indian\", <br/>\n",
    "> \"ingredients\": [<br/>\n",
    ">     \"tumeric\", <br/>\n",
    ">     \"vegetable stock\", <br/>\n",
    ">     \"tomatoes\", <br/>\n",
    ">     \"garam masala\", <br/>\n",
    ">     \"naan\", <br/>\n",
    ">     \"red lentils\", <br/>\n",
    ">     \"red chili peppers\", <br/>\n",
    ">     \"onions\", <br/>\n",
    ">     \"spinach\", <br/>\n",
    ">     \"sweet potatoes\" <br/>\n",
    "> ] <br/>\n",
    "> } <br/>\n",
    "\n",
    "\n",
    "Test file:\n",
    "- **``id``**: recipes id\n",
    "- **``cuisine``**: type of cuisine"
   ]
  },
  {
   "cell_type": "markdown",
   "metadata": {},
   "source": [
    "## Environment and Configurations"
   ]
  },
  {
   "cell_type": "markdown",
   "metadata": {},
   "source": [
    "Below are most used Python Data Science pckages .."
   ]
  },
  {
   "cell_type": "code",
   "execution_count": 2,
   "metadata": {},
   "outputs": [
    {
     "name": "stderr",
     "output_type": "stream",
     "text": [
      "Using TensorFlow backend.\n"
     ]
    }
   ],
   "source": [
    "import warnings\n",
    "warnings.filterwarnings('ignore')\n",
    "\n",
    "import numpy as np\n",
    "import re\n",
    "import pandas as pd\n",
    "import os\n",
    "from collections import defaultdict\n",
    "\n",
    "#----------- sklearn ------------------------------\n",
    "from sklearn.naive_bayes import MultinomialNB\n",
    "from sklearn.pipeline import Pipeline\n",
    "from sklearn.base import TransformerMixin\n",
    "from sklearn.feature_extraction.text import TfidfTransformer, CountVectorizer , TfidfVectorizer\n",
    "from sklearn.model_selection import train_test_split\n",
    "from sklearn.metrics import classification_report, accuracy_score, confusion_matrix\n",
    "from sklearn.linear_model import SGDClassifier, LogisticRegression\n",
    "from sklearn.ensemble import RandomForestClassifier, GradientBoostingClassifier\n",
    "from sklearn.svm import SVC\n",
    "from sklearn.preprocessing import LabelBinarizer\n",
    "from sklearn.neighbors import KNeighborsClassifier\n",
    "from sklearn.feature_selection import SelectKBest\n",
    "from sklearn.model_selection import GridSearchCV\n",
    "#-------------- xgboost -------------------------- \n",
    "from xgboost import XGBClassifier\n",
    "#----------- keras ------------------------------\n",
    "from keras.preprocessing.text import Tokenizer\n",
    "#----------- gensim ------------------------------\n",
    "from gensim.utils import simple_preprocess\n",
    "from gensim.parsing.preprocessing import STOPWORDS\n",
    "#----------- NLTK ------------------------------\n",
    "from nltk.stem import WordNetLemmatizer, SnowballStemmer\n",
    "from nltk.stem.porter import *\n",
    "from nltk.corpus import stopwords\n",
    "\n"
   ]
  },
  {
   "cell_type": "markdown",
   "metadata": {},
   "source": [
    "Pandas columns and rows display configurations .."
   ]
  },
  {
   "cell_type": "code",
   "execution_count": 3,
   "metadata": {},
   "outputs": [],
   "source": [
    "pd.set_option('display.max_rows', 10000)\n",
    "pd.set_option('display.max_columns', 100)\n",
    "pd.set_option('display.max_colwidth', 400)"
   ]
  },
  {
   "cell_type": "markdown",
   "metadata": {},
   "source": [
    "Changing the relative path for the case's working directory.\n",
    "\n",
    "<span style= \"color:red\" > Note: </span> In case you will use this kernel you have to change the below path"
   ]
  },
  {
   "cell_type": "code",
   "execution_count": 4,
   "metadata": {},
   "outputs": [],
   "source": [
    "path = 'D:/2- Kaggle/8-Whats Cooking/'\n",
    "os.chdir(path)"
   ]
  },
  {
   "cell_type": "markdown",
   "metadata": {},
   "source": [
    "## Data Loading"
   ]
  },
  {
   "cell_type": "markdown",
   "metadata": {},
   "source": [
    "Reading the (train/test) data located in **data** directory.."
   ]
  },
  {
   "cell_type": "code",
   "execution_count": 5,
   "metadata": {},
   "outputs": [],
   "source": [
    "train_row_df = pd.read_json('data/train.json')\n",
    "test_row_df = pd.read_json('data/test.json')"
   ]
  },
  {
   "cell_type": "markdown",
   "metadata": {},
   "source": [
    "## Data Exploration"
   ]
  },
  {
   "cell_type": "markdown",
   "metadata": {},
   "source": [
    "In this part we will explore the data **shapes** (no. of rows and columns), data **samples** and **cuisine data distribution** as percentage."
   ]
  },
  {
   "cell_type": "code",
   "execution_count": 6,
   "metadata": {},
   "outputs": [
    {
     "data": {
      "text/plain": [
       "(39774, 3)"
      ]
     },
     "execution_count": 6,
     "metadata": {},
     "output_type": "execute_result"
    }
   ],
   "source": [
    "train_row_df.shape"
   ]
  },
  {
   "cell_type": "code",
   "execution_count": 7,
   "metadata": {},
   "outputs": [
    {
     "data": {
      "text/plain": [
       "(9944, 2)"
      ]
     },
     "execution_count": 7,
     "metadata": {},
     "output_type": "execute_result"
    }
   ],
   "source": [
    "test_row_df.shape"
   ]
  },
  {
   "cell_type": "code",
   "execution_count": 8,
   "metadata": {},
   "outputs": [
    {
     "data": {
      "text/html": [
       "<div>\n",
       "<style scoped>\n",
       "    .dataframe tbody tr th:only-of-type {\n",
       "        vertical-align: middle;\n",
       "    }\n",
       "\n",
       "    .dataframe tbody tr th {\n",
       "        vertical-align: top;\n",
       "    }\n",
       "\n",
       "    .dataframe thead th {\n",
       "        text-align: right;\n",
       "    }\n",
       "</style>\n",
       "<table border=\"1\" class=\"dataframe\">\n",
       "  <thead>\n",
       "    <tr style=\"text-align: right;\">\n",
       "      <th></th>\n",
       "      <th>id</th>\n",
       "      <th>cuisine</th>\n",
       "      <th>ingredients</th>\n",
       "    </tr>\n",
       "  </thead>\n",
       "  <tbody>\n",
       "    <tr>\n",
       "      <th>0</th>\n",
       "      <td>10259</td>\n",
       "      <td>greek</td>\n",
       "      <td>[romaine lettuce, black olives, grape tomatoes, garlic, pepper, purple onion, seasoning, garbanzo beans, feta cheese crumbles]</td>\n",
       "    </tr>\n",
       "    <tr>\n",
       "      <th>1</th>\n",
       "      <td>25693</td>\n",
       "      <td>southern_us</td>\n",
       "      <td>[plain flour, ground pepper, salt, tomatoes, ground black pepper, thyme, eggs, green tomatoes, yellow corn meal, milk, vegetable oil]</td>\n",
       "    </tr>\n",
       "    <tr>\n",
       "      <th>2</th>\n",
       "      <td>20130</td>\n",
       "      <td>filipino</td>\n",
       "      <td>[eggs, pepper, salt, mayonaise, cooking oil, green chilies, grilled chicken breasts, garlic powder, yellow onion, soy sauce, butter, chicken livers]</td>\n",
       "    </tr>\n",
       "    <tr>\n",
       "      <th>3</th>\n",
       "      <td>22213</td>\n",
       "      <td>indian</td>\n",
       "      <td>[water, vegetable oil, wheat, salt]</td>\n",
       "    </tr>\n",
       "    <tr>\n",
       "      <th>4</th>\n",
       "      <td>13162</td>\n",
       "      <td>indian</td>\n",
       "      <td>[black pepper, shallots, cornflour, cayenne pepper, onions, garlic paste, milk, butter, salt, lemon juice, water, chili powder, passata, oil, ground cumin, boneless chicken skinless thigh, garam masala, double cream, natural yogurt, bay leaf]</td>\n",
       "    </tr>\n",
       "  </tbody>\n",
       "</table>\n",
       "</div>"
      ],
      "text/plain": [
       "      id      cuisine  \\\n",
       "0  10259        greek   \n",
       "1  25693  southern_us   \n",
       "2  20130     filipino   \n",
       "3  22213       indian   \n",
       "4  13162       indian   \n",
       "\n",
       "                                                                                                                                                                                                                                          ingredients  \n",
       "0                                                                                                                      [romaine lettuce, black olives, grape tomatoes, garlic, pepper, purple onion, seasoning, garbanzo beans, feta cheese crumbles]  \n",
       "1                                                                                                               [plain flour, ground pepper, salt, tomatoes, ground black pepper, thyme, eggs, green tomatoes, yellow corn meal, milk, vegetable oil]  \n",
       "2                                                                                                [eggs, pepper, salt, mayonaise, cooking oil, green chilies, grilled chicken breasts, garlic powder, yellow onion, soy sauce, butter, chicken livers]  \n",
       "3                                                                                                                                                                                                                 [water, vegetable oil, wheat, salt]  \n",
       "4  [black pepper, shallots, cornflour, cayenne pepper, onions, garlic paste, milk, butter, salt, lemon juice, water, chili powder, passata, oil, ground cumin, boneless chicken skinless thigh, garam masala, double cream, natural yogurt, bay leaf]  "
      ]
     },
     "execution_count": 8,
     "metadata": {},
     "output_type": "execute_result"
    }
   ],
   "source": [
    "train_row_df.head()"
   ]
  },
  {
   "cell_type": "markdown",
   "metadata": {},
   "source": [
    "As we see above the **ingredients** are in **list** format, and we can see that there are two words and more as a single ingredient like **'romaine lettuce'** and **'ground black pepper'** for example, and we expect to see this in test file also."
   ]
  },
  {
   "cell_type": "code",
   "execution_count": 9,
   "metadata": {},
   "outputs": [
    {
     "data": {
      "text/html": [
       "<div>\n",
       "<style scoped>\n",
       "    .dataframe tbody tr th:only-of-type {\n",
       "        vertical-align: middle;\n",
       "    }\n",
       "\n",
       "    .dataframe tbody tr th {\n",
       "        vertical-align: top;\n",
       "    }\n",
       "\n",
       "    .dataframe thead th {\n",
       "        text-align: right;\n",
       "    }\n",
       "</style>\n",
       "<table border=\"1\" class=\"dataframe\">\n",
       "  <thead>\n",
       "    <tr style=\"text-align: right;\">\n",
       "      <th></th>\n",
       "      <th>id</th>\n",
       "      <th>ingredients</th>\n",
       "    </tr>\n",
       "  </thead>\n",
       "  <tbody>\n",
       "    <tr>\n",
       "      <th>0</th>\n",
       "      <td>18009</td>\n",
       "      <td>[baking powder, eggs, all-purpose flour, raisins, milk, white sugar]</td>\n",
       "    </tr>\n",
       "    <tr>\n",
       "      <th>1</th>\n",
       "      <td>28583</td>\n",
       "      <td>[sugar, egg yolks, corn starch, cream of tartar, bananas, vanilla wafers, milk, vanilla extract, toasted pecans, egg whites, light rum]</td>\n",
       "    </tr>\n",
       "    <tr>\n",
       "      <th>2</th>\n",
       "      <td>41580</td>\n",
       "      <td>[sausage links, fennel bulb, fronds, olive oil, cuban peppers, onions]</td>\n",
       "    </tr>\n",
       "    <tr>\n",
       "      <th>3</th>\n",
       "      <td>29752</td>\n",
       "      <td>[meat cuts, file powder, smoked sausage, okra, shrimp, andouille sausage, water, paprika, hot sauce, garlic cloves, browning, lump crab meat, vegetable oil, all-purpose flour, freshly ground pepper, flat leaf parsley, boneless chicken skinless thigh, dried thyme, white rice, yellow onion, ham]</td>\n",
       "    </tr>\n",
       "    <tr>\n",
       "      <th>4</th>\n",
       "      <td>35687</td>\n",
       "      <td>[ground black pepper, salt, sausage casings, leeks, parmigiano reggiano cheese, cornmeal, water, extra-virgin olive oil]</td>\n",
       "    </tr>\n",
       "  </tbody>\n",
       "</table>\n",
       "</div>"
      ],
      "text/plain": [
       "      id  \\\n",
       "0  18009   \n",
       "1  28583   \n",
       "2  41580   \n",
       "3  29752   \n",
       "4  35687   \n",
       "\n",
       "                                                                                                                                                                                                                                                                                              ingredients  \n",
       "0                                                                                                                                                                                                                                    [baking powder, eggs, all-purpose flour, raisins, milk, white sugar]  \n",
       "1                                                                                                                                                                 [sugar, egg yolks, corn starch, cream of tartar, bananas, vanilla wafers, milk, vanilla extract, toasted pecans, egg whites, light rum]  \n",
       "2                                                                                                                                                                                                                                  [sausage links, fennel bulb, fronds, olive oil, cuban peppers, onions]  \n",
       "3  [meat cuts, file powder, smoked sausage, okra, shrimp, andouille sausage, water, paprika, hot sauce, garlic cloves, browning, lump crab meat, vegetable oil, all-purpose flour, freshly ground pepper, flat leaf parsley, boneless chicken skinless thigh, dried thyme, white rice, yellow onion, ham]  \n",
       "4                                                                                                                                                                                [ground black pepper, salt, sausage casings, leeks, parmigiano reggiano cheese, cornmeal, water, extra-virgin olive oil]  "
      ]
     },
     "execution_count": 9,
     "metadata": {},
     "output_type": "execute_result"
    }
   ],
   "source": [
    "test_row_df.head()"
   ]
  },
  {
   "cell_type": "markdown",
   "metadata": {},
   "source": [
    "Below figure is the data distributions percentages on cuisine dimension.."
   ]
  },
  {
   "cell_type": "code",
   "execution_count": 10,
   "metadata": {
    "scrolled": false
   },
   "outputs": [
    {
     "data": {
      "text/plain": [
       "<matplotlib.axes._subplots.AxesSubplot at 0x28a9698b978>"
      ]
     },
     "execution_count": 10,
     "metadata": {},
     "output_type": "execute_result"
    },
    {
     "data": {
      "image/png": "[encoded data removed]",
      "text/plain": [
       "<Figure size 432x288 with 1 Axes>"
      ]
     },
     "metadata": {
      "needs_background": "light"
     },
     "output_type": "display_data"
    }
   ],
   "source": [
    "train_row_df.groupby('cuisine')\\\n",
    "            .agg(\n",
    "                count = ('ingredients', 'count')\n",
    "            )\\\n",
    "            .sort_values(by = ['count'],ascending= False)\\\n",
    "            .assign(\n",
    "                total_cnt = lambda x : x['count'].sum()\\\n",
    "                ,pct = lambda x : (x['count'] / x['total_cnt']) * 100  \n",
    "            )\\\n",
    "            .reset_index()\\\n",
    "            .plot.bar(x='cuisine', y='pct')"
   ]
  },
  {
   "cell_type": "markdown",
   "metadata": {},
   "source": [
    "Data totally imbalanced !!. click [here](https://www.kaggle.com/getting-started/100018) for more info about imbalanced data it's challenges. "
   ]
  },
  {
   "cell_type": "markdown",
   "metadata": {},
   "source": [
    "## Data Pipeline"
   ]
  },
  {
   "attachments": {
    "image.png": {
     "image/png": "[encoded data removed]"
    }
   },
   "cell_type": "markdown",
   "metadata": {},
   "source": [
    "I would like to explain the technique of [**sklearn Pipeline**](https://scikit-learn.org/stable/modules/generated/sklearn.pipeline.Pipeline.html) <blockquote>as [@dbaghern](https://www.kaggle.com/baghern) said in her awesome [notebook](https://www.kaggle.com/baghern/a-deep-dive-into-sklearn-pipelines): **Pipelines** are a way to streamline a lot of the routine processes, encapsulating little pieces of logic into one function call, which makes it easier to actually do modeling instead just writing a bunch of code.</blockquote>\n",
    "\n",
    "My pipeline will go as follow :\n",
    "![image.png](attachment:image.png)\n"
   ]
  },
  {
   "cell_type": "markdown",
   "metadata": {},
   "source": [
    "### Data Preprocessing"
   ]
  },
  {
   "cell_type": "markdown",
   "metadata": {},
   "source": [
    "Here I will bulid the preprocessing class of our pipeline, applying basic simple text preprocessing steps as follow:\n",
    "\n",
    "- Concating multi-words ingredient, and it will be an **optional step**, as I was checking if it will increase my accuracy or not (I will not use it in preprocessing) .. it is descreasing accuracy.\n",
    "- Convert list of ingredients to string\n",
    "- Remove all bad symbols from the the string\n",
    "- Remove stopwords "
   ]
  },
  {
   "cell_type": "code",
   "execution_count": 11,
   "metadata": {},
   "outputs": [],
   "source": [
    "class text_preprocessing(TransformerMixin):\n",
    "    \n",
    "    def __init__(self, concat_ingredients = False):\n",
    "        self.concat_ingredients = concat_ingredients\n",
    "        \n",
    "    def transform(self, ingredients):\n",
    "        BAD_SYMBOLS_RE = re.compile('[^0-9a-z]')\n",
    "        STOPWORDS = set(stopwords.words('english'))\n",
    "\n",
    "        if(self.concat_ingredients):\n",
    "            ingredients = ingredients.apply(lambda ing_list: [ingredient.replace(' ','') for ingredient in ing_list]) # concat multi word ingredient \n",
    "\n",
    "        ingredients = ingredients.apply(lambda ing_list: ' '.join(ing_list)) # convert list of ingredients to string\n",
    "        ingredients = ingredients.str.lower() # ingredients string to lower case letters\n",
    "        ingredients = ingredients.apply(lambda ing_list: BAD_SYMBOLS_RE.sub(' ', ing_list)) # remove all non(numbers, characters) from the string\n",
    "        ingredients = ingredients.apply(lambda ing_list: ' '.join([word for word in ing_list.split() if word not in STOPWORDS])) # remove stopwords       \n",
    "        \n",
    "        return ingredients\n",
    "    \n",
    "    def fit(self, X, Y):\n",
    "        return self"
   ]
  },
  {
   "cell_type": "markdown",
   "metadata": {},
   "source": [
    "As I mentioned before that we will split train file data into train and validation, I decided to make it **(70% train and 30% validation)** and test will be for kaggle final result submission."
   ]
  },
  {
   "cell_type": "code",
   "execution_count": 12,
   "metadata": {},
   "outputs": [],
   "source": [
    "X , Y = train_row_df['ingredients'], train_row_df['cuisine']"
   ]
  },
  {
   "cell_type": "code",
   "execution_count": 13,
   "metadata": {},
   "outputs": [],
   "source": [
    "validation_size = 0.3\n",
    "random_state = 42"
   ]
  },
  {
   "cell_type": "code",
   "execution_count": 14,
   "metadata": {},
   "outputs": [],
   "source": [
    "x_train, x_vald , y_train , y_vald = train_test_split(X, Y, test_size = validation_size, random_state = random_state)\n",
    "\n",
    "x_test = test_row_df['ingredients']"
   ]
  },
  {
   "cell_type": "markdown",
   "metadata": {},
   "source": [
    "### Feature Extraction"
   ]
  },
  {
   "cell_type": "markdown",
   "metadata": {},
   "source": [
    "In this step we will use [TF-IDF](https://scikit-learn.org/stable/modules/generated/sklearn.feature_extraction.text.TfidfTransformer.html) technique, and it is mandatoury to use [CountVectorizer](https://scikit-learn.org/stable/modules/generated/sklearn.feature_extraction.text.CountVectorizer.html) as step before or you can use [TfidfVectorizer](https://scikit-learn.org/stable/modules/generated/sklearn.feature_extraction.text.TfidfVectorizer.html) as it is Equivalent to CountVectorizer followed by TfidfTransformer.\n",
    "\n",
    "And why I took the two steps ?! the answer is that we can use **CountVectorizer** only as features representer, i used it in model train trails."
   ]
  },
  {
   "cell_type": "markdown",
   "metadata": {},
   "source": [
    "### Data Classifiers (ML Models)"
   ]
  },
  {
   "cell_type": "markdown",
   "metadata": {},
   "source": [
    "Here we gonna use many known classifiers with their defualt parameters, and after training we will get the model with the highest accuracy and apply the grid search to finde best other parameters that boost algorithm to achive more accuracy.\n",
    "\n",
    "Classifiers Used:\n",
    "\n",
    "- [Multinomial Naive Bayes](https://scikit-learn.org/stable/modules/generated/sklearn.naive_bayes.MultinomialNB.html): as simple [baseline](https://datascience.stackexchange.com/questions/30912/what-does-baseline-mean-in-the-context-of-machine-learning) algorithm\n",
    "- [SGD Classifier](https://scikit-learn.org/stable/modules/generated/sklearn.linear_model.SGDClassifier.html)\n",
    "- [Logistic Regression](https://scikit-learn.org/stable/modules/generated/sklearn.linear_model.LogisticRegression.html)\n",
    "- [Random Forest Classifier](https://scikit-learn.org/stable/modules/generated/sklearn.ensemble.RandomForestClassifier.html)\n",
    "- [SVM Classifier](https://scikit-learn.org/stable/modules/generated/sklearn.svm.SVC.html)\n",
    "- [Gradient Boosting Classifier](https://scikit-learn.org/stable/modules/generated/sklearn.ensemble.GradientBoostingClassifier.html)\n",
    "- [XGB Classifier](https://xgboost.readthedocs.io/en/latest/python/python_api.html#xgboost.XGBClassifier)\n",
    "- [KNeighbors Classifier](https://scikit-learn.org/stable/modules/generated/sklearn.neighbors.KNeighborsClassifier.html)"
   ]
  },
  {
   "cell_type": "markdown",
   "metadata": {},
   "source": [
    "### Pipelines"
   ]
  },
  {
   "cell_type": "markdown",
   "metadata": {},
   "source": [
    "We will create a pipeline for each Classifiers and a dictionary to contain all created pipelines. "
   ]
  },
  {
   "cell_type": "code",
   "execution_count": 15,
   "metadata": {},
   "outputs": [],
   "source": [
    "pipelines = defaultdict(None)\n",
    "\n",
    "NB_Pipeline = Pipeline([\n",
    "               ('pre', text_preprocessing()),\n",
    "               ('vect', CountVectorizer()),\n",
    "               ('tfidf', TfidfTransformer()),\n",
    "               ('clf', MultinomialNB())\n",
    "              ])\n",
    "pipelines['Multinomial Naive Bayes'] = NB_Pipeline\n",
    "\n",
    "\n",
    "SGD_Pipeline = Pipeline([\n",
    "                ('pre', text_preprocessing()),\n",
    "                ('vect', CountVectorizer()),\n",
    "                ('tfidf', TfidfTransformer()),\n",
    "                ('clf' , SGDClassifier())\n",
    "              ])\n",
    "pipelines['SGDClassifier'] = SGD_Pipeline\n",
    "\n",
    "\n",
    "LR_Pipeline = Pipeline([\n",
    "                ('pre', text_preprocessing()),\n",
    "                ('vect', CountVectorizer()),\n",
    "                ('tfidf', TfidfTransformer()),\n",
    "                ('clf', LogisticRegression())\n",
    "              ])\n",
    "pipelines['LogisticRegression'] = LR_Pipeline\n",
    "\n",
    "\n",
    "RF_Pipeline = Pipeline([\n",
    "                ('pre', text_preprocessing()),\n",
    "                ('vect', CountVectorizer()),\n",
    "                ('tfidf', TfidfTransformer()),\n",
    "                ('clf', RandomForestClassifier())\n",
    "              ])\n",
    "pipelines['RandomForestClassifier'] = RF_Pipeline\n",
    "\n",
    "\n",
    "SVC_Pipeline = Pipeline([\n",
    "                ('pre', text_preprocessing()),\n",
    "                ('vect', CountVectorizer()),\n",
    "                ('tfidf', TfidfTransformer()),\n",
    "                ('clf', SVC())\n",
    "              ])\n",
    "pipelines['SVMClassifier'] = SVC_Pipeline\n",
    "\n",
    "\n",
    "GBC_Pipeline = Pipeline([\n",
    "                ('pre', text_preprocessing()),\n",
    "                ('vect', CountVectorizer()),\n",
    "                ('tfidf', TfidfTransformer()),\n",
    "                ('clf', GradientBoostingClassifier())\n",
    "              ])\n",
    "pipelines['GradientBoostingClassifier'] = GBC_Pipeline\n",
    "\n",
    "\n",
    "XGBC_Pipeline = Pipeline([\n",
    "                ('pre', text_preprocessing()),\n",
    "                ('vect', CountVectorizer()),\n",
    "                ('tfidf', TfidfTransformer()),\n",
    "                ('clf', XGBClassifier(objective=\"multi:softprob\", random_state=42))\n",
    "              ])\n",
    "pipelines['XGBClassifier'] = XGBC_Pipeline\n",
    "\n",
    "\n",
    "KNC_Pipeline = Pipeline([\n",
    "                ('pre', text_preprocessing()),\n",
    "                ('vect', CountVectorizer()),\n",
    "                ('tfidf', TfidfTransformer()),\n",
    "                ('clf', KNeighborsClassifier())\n",
    "              ])\n",
    "pipelines['KNeighborsClassifier'] = KNC_Pipeline"
   ]
  },
  {
   "cell_type": "markdown",
   "metadata": {},
   "source": [
    "### Training and Validation"
   ]
  },
  {
   "cell_type": "markdown",
   "metadata": {},
   "source": [
    "we will train all models then find best accuracy on validation data"
   ]
  },
  {
   "cell_type": "code",
   "execution_count": 18,
   "metadata": {},
   "outputs": [],
   "source": [
    "for name, pipeline in pipelines.items():\n",
    "    pipeline.fit(x_train,y_train)"
   ]
  },
  {
   "cell_type": "code",
   "execution_count": 19,
   "metadata": {},
   "outputs": [
    {
     "name": "stdout",
     "output_type": "stream",
     "text": [
      "Multinomial Naive Bayes Test Accuracy: 0.6698231794184195\n",
      "SGDClassifier Test Accuracy: 0.7734852928852761\n",
      "LogisticRegression Test Accuracy: 0.7795189809771222\n",
      "RandomForestClassifier Test Accuracy: 0.7419760328500796\n",
      "SVMClassifier Test Accuracy: 0.795608815888712\n",
      "GradientBoostingClassifier Test Accuracy: 0.7358585435347356\n",
      "XGBClassifier Test Accuracy: 0.7285678370904215\n",
      "KNeighborsClassifier Test Accuracy: 0.7275622224084471\n",
      "--------------------------------------------------------\n",
      "Best Pipeline is SVMClassifier with Accuracy 0.795608815888712\n"
     ]
    }
   ],
   "source": [
    "best_accuracy=0.0\n",
    "best_classifier_name = 0\n",
    "\n",
    "for name,model in pipelines.items():\n",
    "    score = model.score(x_vald, y_vald)\n",
    "    if score > best_accuracy:\n",
    "        best_accuracy = score\n",
    "        best_classifier_name = name \n",
    "        \n",
    "    print(f'''{name} Test Accuracy: {score}''')\n",
    "\n",
    "print('--------------------------------------------------------')\n",
    "print(f'''Best Pipeline is {best_classifier_name} with Accuracy {best_accuracy}''')"
   ]
  },
  {
   "cell_type": "markdown",
   "metadata": {},
   "source": [
    "As we see the model with best accuracy is the **SVMClassifier**, so we gonna apply grid search to find best parameters to see if we can get higher accuracy.."
   ]
  },
  {
   "cell_type": "markdown",
   "metadata": {},
   "source": [
    "### Grid Search"
   ]
  },
  {
   "cell_type": "markdown",
   "metadata": {},
   "source": [
    "As per **SVMClassifier** documentation there are alot of parameters we can tune so I select the most relevant parameters as below, note that you have to include all **DEFAULTS** parameters as it achived the highest accuracy above we don't want less accuracy "
   ]
  },
  {
   "cell_type": "code",
   "execution_count": 16,
   "metadata": {},
   "outputs": [],
   "source": [
    "tuned_parameters = {\n",
    "                    'clf__kernel': ['linear', 'poly', 'rbf', 'sigmoid', 'precomputed'],\n",
    "                    'clf__degree': [3,4,5],\n",
    "                    'clf__C': [1, 10, 100, 1000],\n",
    "                    'clf__decision_function_shape' : ['ovo', 'ovr'],\n",
    "                    'clf__gamma': ['scale', 'auto']\n",
    "                    }"
   ]
  },
  {
   "cell_type": "markdown",
   "metadata": {},
   "source": [
    "Note that **'clf__'** is to that this parameter is one of **'clf'** step in the pipeline "
   ]
  },
  {
   "cell_type": "markdown",
   "metadata": {},
   "source": [
    "Using the awesome example [here](https://scikit-learn.org/stable/auto_examples/model_selection/plot_grid_search_digits.html) we applyed the grid search on **SVC_Pipeline**.\n",
    "\n",
    "<span style= 'color:red'> WARNING </span> it took around **24 hours** with **4 parallel jobs** (n_jobs parameter below) to get best parameters. "
   ]
  },
  {
   "cell_type": "code",
   "execution_count": 352,
   "metadata": {
    "scrolled": true
   },
   "outputs": [
    {
     "name": "stdout",
     "output_type": "stream",
     "text": [
      "# Tuning hyper-parameters for accuracy\n",
      "\n",
      "Fitting 5 folds for each of 240 candidates, totalling 1200 fits\n"
     ]
    },
    {
     "name": "stderr",
     "output_type": "stream",
     "text": [
      "[Parallel(n_jobs=4)]: Using backend LokyBackend with 4 concurrent workers.\n",
      "[Parallel(n_jobs=4)]: Done  10 tasks      | elapsed:  8.2min\n",
      "[Parallel(n_jobs=4)]: Done  64 tasks      | elapsed: 37.7min\n",
      "[Parallel(n_jobs=4)]: Done 154 tasks      | elapsed: 83.1min\n",
      "[Parallel(n_jobs=4)]: Done 280 tasks      | elapsed: 150.7min\n",
      "[Parallel(n_jobs=4)]: Done 442 tasks      | elapsed: 242.0min\n",
      "[Parallel(n_jobs=4)]: Done 640 tasks      | elapsed: 346.1min\n",
      "[Parallel(n_jobs=4)]: Done 874 tasks      | elapsed: 460.4min\n",
      "[Parallel(n_jobs=4)]: Done 1144 tasks      | elapsed: 595.7min\n",
      "[Parallel(n_jobs=4)]: Done 1200 out of 1200 | elapsed: 622.7min finished\n"
     ]
    },
    {
     "name": "stdout",
     "output_type": "stream",
     "text": [
      "[LibSVM]Best parameters set found on development set:\n",
      "\n",
      "{'clf__C': 10, 'clf__decision_function_shape': 'ovo', 'clf__degree': 3, 'clf__gamma': 'scale', 'clf__kernel': 'rbf'}\n",
      "\n",
      "Grid scores on development set:\n",
      "\n",
      "0.778 (+/-0.007) for {'clf__C': 1, 'clf__decision_function_shape': 'ovo', 'clf__degree': 3, 'clf__gamma': 'scale', 'clf__kernel': 'linear'}\n",
      "0.750 (+/-0.007) for {'clf__C': 1, 'clf__decision_function_shape': 'ovo', 'clf__degree': 3, 'clf__gamma': 'scale', 'clf__kernel': 'poly'}\n",
      "0.788 (+/-0.006) for {'clf__C': 1, 'clf__decision_function_shape': 'ovo', 'clf__degree': 3, 'clf__gamma': 'scale', 'clf__kernel': 'rbf'}\n",
      "0.766 (+/-0.008) for {'clf__C': 1, 'clf__decision_function_shape': 'ovo', 'clf__degree': 3, 'clf__gamma': 'scale', 'clf__kernel': 'sigmoid'}\n",
      "nan (+/-nan) for {'clf__C': 1, 'clf__decision_function_shape': 'ovo', 'clf__degree': 3, 'clf__gamma': 'scale', 'clf__kernel': 'precomputed'}\n",
      "0.778 (+/-0.007) for {'clf__C': 1, 'clf__decision_function_shape': 'ovo', 'clf__degree': 3, 'clf__gamma': 'auto', 'clf__kernel': 'linear'}\n",
      "0.197 (+/-0.000) for {'clf__C': 1, 'clf__decision_function_shape': 'ovo', 'clf__degree': 3, 'clf__gamma': 'auto', 'clf__kernel': 'poly'}\n",
      "0.197 (+/-0.000) for {'clf__C': 1, 'clf__decision_function_shape': 'ovo', 'clf__degree': 3, 'clf__gamma': 'auto', 'clf__kernel': 'rbf'}\n",
      "0.197 (+/-0.000) for {'clf__C': 1, 'clf__decision_function_shape': 'ovo', 'clf__degree': 3, 'clf__gamma': 'auto', 'clf__kernel': 'sigmoid'}\n",
      "nan (+/-nan) for {'clf__C': 1, 'clf__decision_function_shape': 'ovo', 'clf__degree': 3, 'clf__gamma': 'auto', 'clf__kernel': 'precomputed'}\n",
      "0.778 (+/-0.007) for {'clf__C': 1, 'clf__decision_function_shape': 'ovo', 'clf__degree': 4, 'clf__gamma': 'scale', 'clf__kernel': 'linear'}\n",
      "0.668 (+/-0.007) for {'clf__C': 1, 'clf__decision_function_shape': 'ovo', 'clf__degree': 4, 'clf__gamma': 'scale', 'clf__kernel': 'poly'}\n",
      "0.788 (+/-0.006) for {'clf__C': 1, 'clf__decision_function_shape': 'ovo', 'clf__degree': 4, 'clf__gamma': 'scale', 'clf__kernel': 'rbf'}\n",
      "0.766 (+/-0.008) for {'clf__C': 1, 'clf__decision_function_shape': 'ovo', 'clf__degree': 4, 'clf__gamma': 'scale', 'clf__kernel': 'sigmoid'}\n",
      "nan (+/-nan) for {'clf__C': 1, 'clf__decision_function_shape': 'ovo', 'clf__degree': 4, 'clf__gamma': 'scale', 'clf__kernel': 'precomputed'}\n",
      "0.778 (+/-0.007) for {'clf__C': 1, 'clf__decision_function_shape': 'ovo', 'clf__degree': 4, 'clf__gamma': 'auto', 'clf__kernel': 'linear'}\n",
      "0.197 (+/-0.000) for {'clf__C': 1, 'clf__decision_function_shape': 'ovo', 'clf__degree': 4, 'clf__gamma': 'auto', 'clf__kernel': 'poly'}\n",
      "0.197 (+/-0.000) for {'clf__C': 1, 'clf__decision_function_shape': 'ovo', 'clf__degree': 4, 'clf__gamma': 'auto', 'clf__kernel': 'rbf'}\n",
      "0.197 (+/-0.000) for {'clf__C': 1, 'clf__decision_function_shape': 'ovo', 'clf__degree': 4, 'clf__gamma': 'auto', 'clf__kernel': 'sigmoid'}\n",
      "nan (+/-nan) for {'clf__C': 1, 'clf__decision_function_shape': 'ovo', 'clf__degree': 4, 'clf__gamma': 'auto', 'clf__kernel': 'precomputed'}\n",
      "0.778 (+/-0.007) for {'clf__C': 1, 'clf__decision_function_shape': 'ovo', 'clf__degree': 5, 'clf__gamma': 'scale', 'clf__kernel': 'linear'}\n",
      "0.556 (+/-0.010) for {'clf__C': 1, 'clf__decision_function_shape': 'ovo', 'clf__degree': 5, 'clf__gamma': 'scale', 'clf__kernel': 'poly'}\n",
      "0.788 (+/-0.006) for {'clf__C': 1, 'clf__decision_function_shape': 'ovo', 'clf__degree': 5, 'clf__gamma': 'scale', 'clf__kernel': 'rbf'}\n",
      "0.766 (+/-0.008) for {'clf__C': 1, 'clf__decision_function_shape': 'ovo', 'clf__degree': 5, 'clf__gamma': 'scale', 'clf__kernel': 'sigmoid'}\n",
      "nan (+/-nan) for {'clf__C': 1, 'clf__decision_function_shape': 'ovo', 'clf__degree': 5, 'clf__gamma': 'scale', 'clf__kernel': 'precomputed'}\n",
      "0.778 (+/-0.007) for {'clf__C': 1, 'clf__decision_function_shape': 'ovo', 'clf__degree': 5, 'clf__gamma': 'auto', 'clf__kernel': 'linear'}\n",
      "0.197 (+/-0.000) for {'clf__C': 1, 'clf__decision_function_shape': 'ovo', 'clf__degree': 5, 'clf__gamma': 'auto', 'clf__kernel': 'poly'}\n",
      "0.197 (+/-0.000) for {'clf__C': 1, 'clf__decision_function_shape': 'ovo', 'clf__degree': 5, 'clf__gamma': 'auto', 'clf__kernel': 'rbf'}\n",
      "0.197 (+/-0.000) for {'clf__C': 1, 'clf__decision_function_shape': 'ovo', 'clf__degree': 5, 'clf__gamma': 'auto', 'clf__kernel': 'sigmoid'}\n",
      "nan (+/-nan) for {'clf__C': 1, 'clf__decision_function_shape': 'ovo', 'clf__degree': 5, 'clf__gamma': 'auto', 'clf__kernel': 'precomputed'}\n",
      "0.778 (+/-0.007) for {'clf__C': 1, 'clf__decision_function_shape': 'ovr', 'clf__degree': 3, 'clf__gamma': 'scale', 'clf__kernel': 'linear'}\n",
      "0.750 (+/-0.007) for {'clf__C': 1, 'clf__decision_function_shape': 'ovr', 'clf__degree': 3, 'clf__gamma': 'scale', 'clf__kernel': 'poly'}\n",
      "0.788 (+/-0.006) for {'clf__C': 1, 'clf__decision_function_shape': 'ovr', 'clf__degree': 3, 'clf__gamma': 'scale', 'clf__kernel': 'rbf'}\n",
      "0.766 (+/-0.008) for {'clf__C': 1, 'clf__decision_function_shape': 'ovr', 'clf__degree': 3, 'clf__gamma': 'scale', 'clf__kernel': 'sigmoid'}\n",
      "nan (+/-nan) for {'clf__C': 1, 'clf__decision_function_shape': 'ovr', 'clf__degree': 3, 'clf__gamma': 'scale', 'clf__kernel': 'precomputed'}\n",
      "0.778 (+/-0.007) for {'clf__C': 1, 'clf__decision_function_shape': 'ovr', 'clf__degree': 3, 'clf__gamma': 'auto', 'clf__kernel': 'linear'}\n",
      "0.197 (+/-0.000) for {'clf__C': 1, 'clf__decision_function_shape': 'ovr', 'clf__degree': 3, 'clf__gamma': 'auto', 'clf__kernel': 'poly'}\n",
      "0.197 (+/-0.000) for {'clf__C': 1, 'clf__decision_function_shape': 'ovr', 'clf__degree': 3, 'clf__gamma': 'auto', 'clf__kernel': 'rbf'}\n",
      "0.197 (+/-0.000) for {'clf__C': 1, 'clf__decision_function_shape': 'ovr', 'clf__degree': 3, 'clf__gamma': 'auto', 'clf__kernel': 'sigmoid'}\n",
      "nan (+/-nan) for {'clf__C': 1, 'clf__decision_function_shape': 'ovr', 'clf__degree': 3, 'clf__gamma': 'auto', 'clf__kernel': 'precomputed'}\n",
      "0.778 (+/-0.007) for {'clf__C': 1, 'clf__decision_function_shape': 'ovr', 'clf__degree': 4, 'clf__gamma': 'scale', 'clf__kernel': 'linear'}\n",
      "0.668 (+/-0.007) for {'clf__C': 1, 'clf__decision_function_shape': 'ovr', 'clf__degree': 4, 'clf__gamma': 'scale', 'clf__kernel': 'poly'}\n",
      "0.788 (+/-0.006) for {'clf__C': 1, 'clf__decision_function_shape': 'ovr', 'clf__degree': 4, 'clf__gamma': 'scale', 'clf__kernel': 'rbf'}\n",
      "0.766 (+/-0.008) for {'clf__C': 1, 'clf__decision_function_shape': 'ovr', 'clf__degree': 4, 'clf__gamma': 'scale', 'clf__kernel': 'sigmoid'}\n",
      "nan (+/-nan) for {'clf__C': 1, 'clf__decision_function_shape': 'ovr', 'clf__degree': 4, 'clf__gamma': 'scale', 'clf__kernel': 'precomputed'}\n",
      "0.778 (+/-0.007) for {'clf__C': 1, 'clf__decision_function_shape': 'ovr', 'clf__degree': 4, 'clf__gamma': 'auto', 'clf__kernel': 'linear'}\n",
      "0.197 (+/-0.000) for {'clf__C': 1, 'clf__decision_function_shape': 'ovr', 'clf__degree': 4, 'clf__gamma': 'auto', 'clf__kernel': 'poly'}\n",
      "0.197 (+/-0.000) for {'clf__C': 1, 'clf__decision_function_shape': 'ovr', 'clf__degree': 4, 'clf__gamma': 'auto', 'clf__kernel': 'rbf'}\n",
      "0.197 (+/-0.000) for {'clf__C': 1, 'clf__decision_function_shape': 'ovr', 'clf__degree': 4, 'clf__gamma': 'auto', 'clf__kernel': 'sigmoid'}\n",
      "nan (+/-nan) for {'clf__C': 1, 'clf__decision_function_shape': 'ovr', 'clf__degree': 4, 'clf__gamma': 'auto', 'clf__kernel': 'precomputed'}\n",
      "0.778 (+/-0.007) for {'clf__C': 1, 'clf__decision_function_shape': 'ovr', 'clf__degree': 5, 'clf__gamma': 'scale', 'clf__kernel': 'linear'}\n",
      "0.556 (+/-0.010) for {'clf__C': 1, 'clf__decision_function_shape': 'ovr', 'clf__degree': 5, 'clf__gamma': 'scale', 'clf__kernel': 'poly'}\n",
      "0.788 (+/-0.006) for {'clf__C': 1, 'clf__decision_function_shape': 'ovr', 'clf__degree': 5, 'clf__gamma': 'scale', 'clf__kernel': 'rbf'}\n",
      "0.766 (+/-0.008) for {'clf__C': 1, 'clf__decision_function_shape': 'ovr', 'clf__degree': 5, 'clf__gamma': 'scale', 'clf__kernel': 'sigmoid'}\n",
      "nan (+/-nan) for {'clf__C': 1, 'clf__decision_function_shape': 'ovr', 'clf__degree': 5, 'clf__gamma': 'scale', 'clf__kernel': 'precomputed'}\n",
      "0.778 (+/-0.007) for {'clf__C': 1, 'clf__decision_function_shape': 'ovr', 'clf__degree': 5, 'clf__gamma': 'auto', 'clf__kernel': 'linear'}\n",
      "0.197 (+/-0.000) for {'clf__C': 1, 'clf__decision_function_shape': 'ovr', 'clf__degree': 5, 'clf__gamma': 'auto', 'clf__kernel': 'poly'}\n",
      "0.197 (+/-0.000) for {'clf__C': 1, 'clf__decision_function_shape': 'ovr', 'clf__degree': 5, 'clf__gamma': 'auto', 'clf__kernel': 'rbf'}\n",
      "0.197 (+/-0.000) for {'clf__C': 1, 'clf__decision_function_shape': 'ovr', 'clf__degree': 5, 'clf__gamma': 'auto', 'clf__kernel': 'sigmoid'}\n",
      "nan (+/-nan) for {'clf__C': 1, 'clf__decision_function_shape': 'ovr', 'clf__degree': 5, 'clf__gamma': 'auto', 'clf__kernel': 'precomputed'}\n",
      "0.759 (+/-0.009) for {'clf__C': 10, 'clf__decision_function_shape': 'ovo', 'clf__degree': 3, 'clf__gamma': 'scale', 'clf__kernel': 'linear'}\n",
      "0.759 (+/-0.004) for {'clf__C': 10, 'clf__decision_function_shape': 'ovo', 'clf__degree': 3, 'clf__gamma': 'scale', 'clf__kernel': 'poly'}\n",
      "0.797 (+/-0.007) for {'clf__C': 10, 'clf__decision_function_shape': 'ovo', 'clf__degree': 3, 'clf__gamma': 'scale', 'clf__kernel': 'rbf'}\n",
      "0.727 (+/-0.009) for {'clf__C': 10, 'clf__decision_function_shape': 'ovo', 'clf__degree': 3, 'clf__gamma': 'scale', 'clf__kernel': 'sigmoid'}\n",
      "nan (+/-nan) for {'clf__C': 10, 'clf__decision_function_shape': 'ovo', 'clf__degree': 3, 'clf__gamma': 'scale', 'clf__kernel': 'precomputed'}\n",
      "0.759 (+/-0.009) for {'clf__C': 10, 'clf__decision_function_shape': 'ovo', 'clf__degree': 3, 'clf__gamma': 'auto', 'clf__kernel': 'linear'}\n",
      "0.197 (+/-0.000) for {'clf__C': 10, 'clf__decision_function_shape': 'ovo', 'clf__degree': 3, 'clf__gamma': 'auto', 'clf__kernel': 'poly'}\n",
      "0.458 (+/-0.006) for {'clf__C': 10, 'clf__decision_function_shape': 'ovo', 'clf__degree': 3, 'clf__gamma': 'auto', 'clf__kernel': 'rbf'}\n",
      "0.319 (+/-0.002) for {'clf__C': 10, 'clf__decision_function_shape': 'ovo', 'clf__degree': 3, 'clf__gamma': 'auto', 'clf__kernel': 'sigmoid'}\n",
      "nan (+/-nan) for {'clf__C': 10, 'clf__decision_function_shape': 'ovo', 'clf__degree': 3, 'clf__gamma': 'auto', 'clf__kernel': 'precomputed'}\n",
      "0.759 (+/-0.009) for {'clf__C': 10, 'clf__decision_function_shape': 'ovo', 'clf__degree': 4, 'clf__gamma': 'scale', 'clf__kernel': 'linear'}\n",
      "0.686 (+/-0.006) for {'clf__C': 10, 'clf__decision_function_shape': 'ovo', 'clf__degree': 4, 'clf__gamma': 'scale', 'clf__kernel': 'poly'}\n",
      "0.797 (+/-0.007) for {'clf__C': 10, 'clf__decision_function_shape': 'ovo', 'clf__degree': 4, 'clf__gamma': 'scale', 'clf__kernel': 'rbf'}\n",
      "0.727 (+/-0.009) for {'clf__C': 10, 'clf__decision_function_shape': 'ovo', 'clf__degree': 4, 'clf__gamma': 'scale', 'clf__kernel': 'sigmoid'}\n",
      "nan (+/-nan) for {'clf__C': 10, 'clf__decision_function_shape': 'ovo', 'clf__degree': 4, 'clf__gamma': 'scale', 'clf__kernel': 'precomputed'}\n",
      "0.759 (+/-0.009) for {'clf__C': 10, 'clf__decision_function_shape': 'ovo', 'clf__degree': 4, 'clf__gamma': 'auto', 'clf__kernel': 'linear'}\n",
      "0.197 (+/-0.000) for {'clf__C': 10, 'clf__decision_function_shape': 'ovo', 'clf__degree': 4, 'clf__gamma': 'auto', 'clf__kernel': 'poly'}\n",
      "0.458 (+/-0.006) for {'clf__C': 10, 'clf__decision_function_shape': 'ovo', 'clf__degree': 4, 'clf__gamma': 'auto', 'clf__kernel': 'rbf'}\n",
      "0.319 (+/-0.002) for {'clf__C': 10, 'clf__decision_function_shape': 'ovo', 'clf__degree': 4, 'clf__gamma': 'auto', 'clf__kernel': 'sigmoid'}\n",
      "nan (+/-nan) for {'clf__C': 10, 'clf__decision_function_shape': 'ovo', 'clf__degree': 4, 'clf__gamma': 'auto', 'clf__kernel': 'precomputed'}\n",
      "0.759 (+/-0.009) for {'clf__C': 10, 'clf__decision_function_shape': 'ovo', 'clf__degree': 5, 'clf__gamma': 'scale', 'clf__kernel': 'linear'}\n",
      "0.581 (+/-0.010) for {'clf__C': 10, 'clf__decision_function_shape': 'ovo', 'clf__degree': 5, 'clf__gamma': 'scale', 'clf__kernel': 'poly'}\n",
      "0.797 (+/-0.007) for {'clf__C': 10, 'clf__decision_function_shape': 'ovo', 'clf__degree': 5, 'clf__gamma': 'scale', 'clf__kernel': 'rbf'}\n",
      "0.727 (+/-0.009) for {'clf__C': 10, 'clf__decision_function_shape': 'ovo', 'clf__degree': 5, 'clf__gamma': 'scale', 'clf__kernel': 'sigmoid'}\n",
      "nan (+/-nan) for {'clf__C': 10, 'clf__decision_function_shape': 'ovo', 'clf__degree': 5, 'clf__gamma': 'scale', 'clf__kernel': 'precomputed'}\n",
      "0.759 (+/-0.009) for {'clf__C': 10, 'clf__decision_function_shape': 'ovo', 'clf__degree': 5, 'clf__gamma': 'auto', 'clf__kernel': 'linear'}\n",
      "0.197 (+/-0.000) for {'clf__C': 10, 'clf__decision_function_shape': 'ovo', 'clf__degree': 5, 'clf__gamma': 'auto', 'clf__kernel': 'poly'}\n",
      "0.458 (+/-0.006) for {'clf__C': 10, 'clf__decision_function_shape': 'ovo', 'clf__degree': 5, 'clf__gamma': 'auto', 'clf__kernel': 'rbf'}\n",
      "0.319 (+/-0.002) for {'clf__C': 10, 'clf__decision_function_shape': 'ovo', 'clf__degree': 5, 'clf__gamma': 'auto', 'clf__kernel': 'sigmoid'}\n",
      "nan (+/-nan) for {'clf__C': 10, 'clf__decision_function_shape': 'ovo', 'clf__degree': 5, 'clf__gamma': 'auto', 'clf__kernel': 'precomputed'}\n",
      "0.759 (+/-0.009) for {'clf__C': 10, 'clf__decision_function_shape': 'ovr', 'clf__degree': 3, 'clf__gamma': 'scale', 'clf__kernel': 'linear'}\n",
      "0.759 (+/-0.004) for {'clf__C': 10, 'clf__decision_function_shape': 'ovr', 'clf__degree': 3, 'clf__gamma': 'scale', 'clf__kernel': 'poly'}\n",
      "0.797 (+/-0.007) for {'clf__C': 10, 'clf__decision_function_shape': 'ovr', 'clf__degree': 3, 'clf__gamma': 'scale', 'clf__kernel': 'rbf'}\n",
      "0.727 (+/-0.009) for {'clf__C': 10, 'clf__decision_function_shape': 'ovr', 'clf__degree': 3, 'clf__gamma': 'scale', 'clf__kernel': 'sigmoid'}\n",
      "nan (+/-nan) for {'clf__C': 10, 'clf__decision_function_shape': 'ovr', 'clf__degree': 3, 'clf__gamma': 'scale', 'clf__kernel': 'precomputed'}\n",
      "0.759 (+/-0.009) for {'clf__C': 10, 'clf__decision_function_shape': 'ovr', 'clf__degree': 3, 'clf__gamma': 'auto', 'clf__kernel': 'linear'}\n",
      "0.197 (+/-0.000) for {'clf__C': 10, 'clf__decision_function_shape': 'ovr', 'clf__degree': 3, 'clf__gamma': 'auto', 'clf__kernel': 'poly'}\n",
      "0.458 (+/-0.006) for {'clf__C': 10, 'clf__decision_function_shape': 'ovr', 'clf__degree': 3, 'clf__gamma': 'auto', 'clf__kernel': 'rbf'}\n",
      "0.319 (+/-0.002) for {'clf__C': 10, 'clf__decision_function_shape': 'ovr', 'clf__degree': 3, 'clf__gamma': 'auto', 'clf__kernel': 'sigmoid'}\n",
      "nan (+/-nan) for {'clf__C': 10, 'clf__decision_function_shape': 'ovr', 'clf__degree': 3, 'clf__gamma': 'auto', 'clf__kernel': 'precomputed'}\n",
      "0.759 (+/-0.009) for {'clf__C': 10, 'clf__decision_function_shape': 'ovr', 'clf__degree': 4, 'clf__gamma': 'scale', 'clf__kernel': 'linear'}\n",
      "0.686 (+/-0.006) for {'clf__C': 10, 'clf__decision_function_shape': 'ovr', 'clf__degree': 4, 'clf__gamma': 'scale', 'clf__kernel': 'poly'}\n",
      "0.797 (+/-0.007) for {'clf__C': 10, 'clf__decision_function_shape': 'ovr', 'clf__degree': 4, 'clf__gamma': 'scale', 'clf__kernel': 'rbf'}\n",
      "0.727 (+/-0.009) for {'clf__C': 10, 'clf__decision_function_shape': 'ovr', 'clf__degree': 4, 'clf__gamma': 'scale', 'clf__kernel': 'sigmoid'}\n",
      "nan (+/-nan) for {'clf__C': 10, 'clf__decision_function_shape': 'ovr', 'clf__degree': 4, 'clf__gamma': 'scale', 'clf__kernel': 'precomputed'}\n",
      "0.759 (+/-0.009) for {'clf__C': 10, 'clf__decision_function_shape': 'ovr', 'clf__degree': 4, 'clf__gamma': 'auto', 'clf__kernel': 'linear'}\n",
      "0.197 (+/-0.000) for {'clf__C': 10, 'clf__decision_function_shape': 'ovr', 'clf__degree': 4, 'clf__gamma': 'auto', 'clf__kernel': 'poly'}\n",
      "0.458 (+/-0.006) for {'clf__C': 10, 'clf__decision_function_shape': 'ovr', 'clf__degree': 4, 'clf__gamma': 'auto', 'clf__kernel': 'rbf'}\n",
      "0.319 (+/-0.002) for {'clf__C': 10, 'clf__decision_function_shape': 'ovr', 'clf__degree': 4, 'clf__gamma': 'auto', 'clf__kernel': 'sigmoid'}\n",
      "nan (+/-nan) for {'clf__C': 10, 'clf__decision_function_shape': 'ovr', 'clf__degree': 4, 'clf__gamma': 'auto', 'clf__kernel': 'precomputed'}\n",
      "0.759 (+/-0.009) for {'clf__C': 10, 'clf__decision_function_shape': 'ovr', 'clf__degree': 5, 'clf__gamma': 'scale', 'clf__kernel': 'linear'}\n",
      "0.581 (+/-0.010) for {'clf__C': 10, 'clf__decision_function_shape': 'ovr', 'clf__degree': 5, 'clf__gamma': 'scale', 'clf__kernel': 'poly'}\n",
      "0.797 (+/-0.007) for {'clf__C': 10, 'clf__decision_function_shape': 'ovr', 'clf__degree': 5, 'clf__gamma': 'scale', 'clf__kernel': 'rbf'}\n",
      "0.727 (+/-0.009) for {'clf__C': 10, 'clf__decision_function_shape': 'ovr', 'clf__degree': 5, 'clf__gamma': 'scale', 'clf__kernel': 'sigmoid'}\n",
      "nan (+/-nan) for {'clf__C': 10, 'clf__decision_function_shape': 'ovr', 'clf__degree': 5, 'clf__gamma': 'scale', 'clf__kernel': 'precomputed'}\n",
      "0.759 (+/-0.009) for {'clf__C': 10, 'clf__decision_function_shape': 'ovr', 'clf__degree': 5, 'clf__gamma': 'auto', 'clf__kernel': 'linear'}\n",
      "0.197 (+/-0.000) for {'clf__C': 10, 'clf__decision_function_shape': 'ovr', 'clf__degree': 5, 'clf__gamma': 'auto', 'clf__kernel': 'poly'}\n",
      "0.458 (+/-0.006) for {'clf__C': 10, 'clf__decision_function_shape': 'ovr', 'clf__degree': 5, 'clf__gamma': 'auto', 'clf__kernel': 'rbf'}\n",
      "0.319 (+/-0.002) for {'clf__C': 10, 'clf__decision_function_shape': 'ovr', 'clf__degree': 5, 'clf__gamma': 'auto', 'clf__kernel': 'sigmoid'}\n",
      "nan (+/-nan) for {'clf__C': 10, 'clf__decision_function_shape': 'ovr', 'clf__degree': 5, 'clf__gamma': 'auto', 'clf__kernel': 'precomputed'}\n",
      "0.729 (+/-0.006) for {'clf__C': 100, 'clf__decision_function_shape': 'ovo', 'clf__degree': 3, 'clf__gamma': 'scale', 'clf__kernel': 'linear'}\n",
      "0.759 (+/-0.004) for {'clf__C': 100, 'clf__decision_function_shape': 'ovo', 'clf__degree': 3, 'clf__gamma': 'scale', 'clf__kernel': 'poly'}\n",
      "0.796 (+/-0.007) for {'clf__C': 100, 'clf__decision_function_shape': 'ovo', 'clf__degree': 3, 'clf__gamma': 'scale', 'clf__kernel': 'rbf'}\n",
      "0.699 (+/-0.008) for {'clf__C': 100, 'clf__decision_function_shape': 'ovo', 'clf__degree': 3, 'clf__gamma': 'scale', 'clf__kernel': 'sigmoid'}\n",
      "nan (+/-nan) for {'clf__C': 100, 'clf__decision_function_shape': 'ovo', 'clf__degree': 3, 'clf__gamma': 'scale', 'clf__kernel': 'precomputed'}\n",
      "0.729 (+/-0.006) for {'clf__C': 100, 'clf__decision_function_shape': 'ovo', 'clf__degree': 3, 'clf__gamma': 'auto', 'clf__kernel': 'linear'}\n",
      "0.197 (+/-0.000) for {'clf__C': 100, 'clf__decision_function_shape': 'ovo', 'clf__degree': 3, 'clf__gamma': 'auto', 'clf__kernel': 'poly'}\n",
      "0.687 (+/-0.002) for {'clf__C': 100, 'clf__decision_function_shape': 'ovo', 'clf__degree': 3, 'clf__gamma': 'auto', 'clf__kernel': 'rbf'}\n",
      "0.623 (+/-0.004) for {'clf__C': 100, 'clf__decision_function_shape': 'ovo', 'clf__degree': 3, 'clf__gamma': 'auto', 'clf__kernel': 'sigmoid'}\n",
      "nan (+/-nan) for {'clf__C': 100, 'clf__decision_function_shape': 'ovo', 'clf__degree': 3, 'clf__gamma': 'auto', 'clf__kernel': 'precomputed'}\n",
      "0.729 (+/-0.006) for {'clf__C': 100, 'clf__decision_function_shape': 'ovo', 'clf__degree': 4, 'clf__gamma': 'scale', 'clf__kernel': 'linear'}\n",
      "0.686 (+/-0.006) for {'clf__C': 100, 'clf__decision_function_shape': 'ovo', 'clf__degree': 4, 'clf__gamma': 'scale', 'clf__kernel': 'poly'}\n",
      "0.796 (+/-0.007) for {'clf__C': 100, 'clf__decision_function_shape': 'ovo', 'clf__degree': 4, 'clf__gamma': 'scale', 'clf__kernel': 'rbf'}\n",
      "0.699 (+/-0.008) for {'clf__C': 100, 'clf__decision_function_shape': 'ovo', 'clf__degree': 4, 'clf__gamma': 'scale', 'clf__kernel': 'sigmoid'}\n",
      "nan (+/-nan) for {'clf__C': 100, 'clf__decision_function_shape': 'ovo', 'clf__degree': 4, 'clf__gamma': 'scale', 'clf__kernel': 'precomputed'}\n",
      "0.729 (+/-0.006) for {'clf__C': 100, 'clf__decision_function_shape': 'ovo', 'clf__degree': 4, 'clf__gamma': 'auto', 'clf__kernel': 'linear'}\n",
      "0.197 (+/-0.000) for {'clf__C': 100, 'clf__decision_function_shape': 'ovo', 'clf__degree': 4, 'clf__gamma': 'auto', 'clf__kernel': 'poly'}\n",
      "0.687 (+/-0.002) for {'clf__C': 100, 'clf__decision_function_shape': 'ovo', 'clf__degree': 4, 'clf__gamma': 'auto', 'clf__kernel': 'rbf'}\n",
      "0.623 (+/-0.004) for {'clf__C': 100, 'clf__decision_function_shape': 'ovo', 'clf__degree': 4, 'clf__gamma': 'auto', 'clf__kernel': 'sigmoid'}\n",
      "nan (+/-nan) for {'clf__C': 100, 'clf__decision_function_shape': 'ovo', 'clf__degree': 4, 'clf__gamma': 'auto', 'clf__kernel': 'precomputed'}\n",
      "0.729 (+/-0.006) for {'clf__C': 100, 'clf__decision_function_shape': 'ovo', 'clf__degree': 5, 'clf__gamma': 'scale', 'clf__kernel': 'linear'}\n",
      "0.581 (+/-0.010) for {'clf__C': 100, 'clf__decision_function_shape': 'ovo', 'clf__degree': 5, 'clf__gamma': 'scale', 'clf__kernel': 'poly'}\n",
      "0.796 (+/-0.007) for {'clf__C': 100, 'clf__decision_function_shape': 'ovo', 'clf__degree': 5, 'clf__gamma': 'scale', 'clf__kernel': 'rbf'}\n",
      "0.699 (+/-0.008) for {'clf__C': 100, 'clf__decision_function_shape': 'ovo', 'clf__degree': 5, 'clf__gamma': 'scale', 'clf__kernel': 'sigmoid'}\n",
      "nan (+/-nan) for {'clf__C': 100, 'clf__decision_function_shape': 'ovo', 'clf__degree': 5, 'clf__gamma': 'scale', 'clf__kernel': 'precomputed'}\n",
      "0.729 (+/-0.006) for {'clf__C': 100, 'clf__decision_function_shape': 'ovo', 'clf__degree': 5, 'clf__gamma': 'auto', 'clf__kernel': 'linear'}\n",
      "0.197 (+/-0.000) for {'clf__C': 100, 'clf__decision_function_shape': 'ovo', 'clf__degree': 5, 'clf__gamma': 'auto', 'clf__kernel': 'poly'}\n",
      "0.687 (+/-0.002) for {'clf__C': 100, 'clf__decision_function_shape': 'ovo', 'clf__degree': 5, 'clf__gamma': 'auto', 'clf__kernel': 'rbf'}\n",
      "0.623 (+/-0.004) for {'clf__C': 100, 'clf__decision_function_shape': 'ovo', 'clf__degree': 5, 'clf__gamma': 'auto', 'clf__kernel': 'sigmoid'}\n",
      "nan (+/-nan) for {'clf__C': 100, 'clf__decision_function_shape': 'ovo', 'clf__degree': 5, 'clf__gamma': 'auto', 'clf__kernel': 'precomputed'}\n",
      "0.729 (+/-0.006) for {'clf__C': 100, 'clf__decision_function_shape': 'ovr', 'clf__degree': 3, 'clf__gamma': 'scale', 'clf__kernel': 'linear'}\n",
      "0.759 (+/-0.004) for {'clf__C': 100, 'clf__decision_function_shape': 'ovr', 'clf__degree': 3, 'clf__gamma': 'scale', 'clf__kernel': 'poly'}\n",
      "0.796 (+/-0.007) for {'clf__C': 100, 'clf__decision_function_shape': 'ovr', 'clf__degree': 3, 'clf__gamma': 'scale', 'clf__kernel': 'rbf'}\n",
      "0.699 (+/-0.008) for {'clf__C': 100, 'clf__decision_function_shape': 'ovr', 'clf__degree': 3, 'clf__gamma': 'scale', 'clf__kernel': 'sigmoid'}\n",
      "nan (+/-nan) for {'clf__C': 100, 'clf__decision_function_shape': 'ovr', 'clf__degree': 3, 'clf__gamma': 'scale', 'clf__kernel': 'precomputed'}\n",
      "0.729 (+/-0.006) for {'clf__C': 100, 'clf__decision_function_shape': 'ovr', 'clf__degree': 3, 'clf__gamma': 'auto', 'clf__kernel': 'linear'}\n",
      "0.197 (+/-0.000) for {'clf__C': 100, 'clf__decision_function_shape': 'ovr', 'clf__degree': 3, 'clf__gamma': 'auto', 'clf__kernel': 'poly'}\n",
      "0.687 (+/-0.002) for {'clf__C': 100, 'clf__decision_function_shape': 'ovr', 'clf__degree': 3, 'clf__gamma': 'auto', 'clf__kernel': 'rbf'}\n",
      "0.623 (+/-0.004) for {'clf__C': 100, 'clf__decision_function_shape': 'ovr', 'clf__degree': 3, 'clf__gamma': 'auto', 'clf__kernel': 'sigmoid'}\n",
      "nan (+/-nan) for {'clf__C': 100, 'clf__decision_function_shape': 'ovr', 'clf__degree': 3, 'clf__gamma': 'auto', 'clf__kernel': 'precomputed'}\n",
      "0.729 (+/-0.006) for {'clf__C': 100, 'clf__decision_function_shape': 'ovr', 'clf__degree': 4, 'clf__gamma': 'scale', 'clf__kernel': 'linear'}\n",
      "0.686 (+/-0.006) for {'clf__C': 100, 'clf__decision_function_shape': 'ovr', 'clf__degree': 4, 'clf__gamma': 'scale', 'clf__kernel': 'poly'}\n",
      "0.796 (+/-0.007) for {'clf__C': 100, 'clf__decision_function_shape': 'ovr', 'clf__degree': 4, 'clf__gamma': 'scale', 'clf__kernel': 'rbf'}\n",
      "0.699 (+/-0.008) for {'clf__C': 100, 'clf__decision_function_shape': 'ovr', 'clf__degree': 4, 'clf__gamma': 'scale', 'clf__kernel': 'sigmoid'}\n",
      "nan (+/-nan) for {'clf__C': 100, 'clf__decision_function_shape': 'ovr', 'clf__degree': 4, 'clf__gamma': 'scale', 'clf__kernel': 'precomputed'}\n",
      "0.729 (+/-0.006) for {'clf__C': 100, 'clf__decision_function_shape': 'ovr', 'clf__degree': 4, 'clf__gamma': 'auto', 'clf__kernel': 'linear'}\n",
      "0.197 (+/-0.000) for {'clf__C': 100, 'clf__decision_function_shape': 'ovr', 'clf__degree': 4, 'clf__gamma': 'auto', 'clf__kernel': 'poly'}\n",
      "0.687 (+/-0.002) for {'clf__C': 100, 'clf__decision_function_shape': 'ovr', 'clf__degree': 4, 'clf__gamma': 'auto', 'clf__kernel': 'rbf'}\n",
      "0.623 (+/-0.004) for {'clf__C': 100, 'clf__decision_function_shape': 'ovr', 'clf__degree': 4, 'clf__gamma': 'auto', 'clf__kernel': 'sigmoid'}\n",
      "nan (+/-nan) for {'clf__C': 100, 'clf__decision_function_shape': 'ovr', 'clf__degree': 4, 'clf__gamma': 'auto', 'clf__kernel': 'precomputed'}\n",
      "0.729 (+/-0.006) for {'clf__C': 100, 'clf__decision_function_shape': 'ovr', 'clf__degree': 5, 'clf__gamma': 'scale', 'clf__kernel': 'linear'}\n",
      "0.581 (+/-0.010) for {'clf__C': 100, 'clf__decision_function_shape': 'ovr', 'clf__degree': 5, 'clf__gamma': 'scale', 'clf__kernel': 'poly'}\n",
      "0.796 (+/-0.007) for {'clf__C': 100, 'clf__decision_function_shape': 'ovr', 'clf__degree': 5, 'clf__gamma': 'scale', 'clf__kernel': 'rbf'}\n",
      "0.699 (+/-0.008) for {'clf__C': 100, 'clf__decision_function_shape': 'ovr', 'clf__degree': 5, 'clf__gamma': 'scale', 'clf__kernel': 'sigmoid'}\n",
      "nan (+/-nan) for {'clf__C': 100, 'clf__decision_function_shape': 'ovr', 'clf__degree': 5, 'clf__gamma': 'scale', 'clf__kernel': 'precomputed'}\n",
      "0.729 (+/-0.006) for {'clf__C': 100, 'clf__decision_function_shape': 'ovr', 'clf__degree': 5, 'clf__gamma': 'auto', 'clf__kernel': 'linear'}\n",
      "0.197 (+/-0.000) for {'clf__C': 100, 'clf__decision_function_shape': 'ovr', 'clf__degree': 5, 'clf__gamma': 'auto', 'clf__kernel': 'poly'}\n",
      "0.687 (+/-0.002) for {'clf__C': 100, 'clf__decision_function_shape': 'ovr', 'clf__degree': 5, 'clf__gamma': 'auto', 'clf__kernel': 'rbf'}\n",
      "0.623 (+/-0.004) for {'clf__C': 100, 'clf__decision_function_shape': 'ovr', 'clf__degree': 5, 'clf__gamma': 'auto', 'clf__kernel': 'sigmoid'}\n",
      "nan (+/-nan) for {'clf__C': 100, 'clf__decision_function_shape': 'ovr', 'clf__degree': 5, 'clf__gamma': 'auto', 'clf__kernel': 'precomputed'}\n",
      "0.718 (+/-0.009) for {'clf__C': 1000, 'clf__decision_function_shape': 'ovo', 'clf__degree': 3, 'clf__gamma': 'scale', 'clf__kernel': 'linear'}\n",
      "0.759 (+/-0.004) for {'clf__C': 1000, 'clf__decision_function_shape': 'ovo', 'clf__degree': 3, 'clf__gamma': 'scale', 'clf__kernel': 'poly'}\n",
      "0.796 (+/-0.007) for {'clf__C': 1000, 'clf__decision_function_shape': 'ovo', 'clf__degree': 3, 'clf__gamma': 'scale', 'clf__kernel': 'rbf'}\n",
      "0.692 (+/-0.011) for {'clf__C': 1000, 'clf__decision_function_shape': 'ovo', 'clf__degree': 3, 'clf__gamma': 'scale', 'clf__kernel': 'sigmoid'}\n",
      "nan (+/-nan) for {'clf__C': 1000, 'clf__decision_function_shape': 'ovo', 'clf__degree': 3, 'clf__gamma': 'scale', 'clf__kernel': 'precomputed'}\n",
      "0.718 (+/-0.009) for {'clf__C': 1000, 'clf__decision_function_shape': 'ovo', 'clf__degree': 3, 'clf__gamma': 'auto', 'clf__kernel': 'linear'}\n",
      "0.197 (+/-0.000) for {'clf__C': 1000, 'clf__decision_function_shape': 'ovo', 'clf__degree': 3, 'clf__gamma': 'auto', 'clf__kernel': 'poly'}\n",
      "0.776 (+/-0.009) for {'clf__C': 1000, 'clf__decision_function_shape': 'ovo', 'clf__degree': 3, 'clf__gamma': 'auto', 'clf__kernel': 'rbf'}\n",
      "0.765 (+/-0.006) for {'clf__C': 1000, 'clf__decision_function_shape': 'ovo', 'clf__degree': 3, 'clf__gamma': 'auto', 'clf__kernel': 'sigmoid'}\n",
      "nan (+/-nan) for {'clf__C': 1000, 'clf__decision_function_shape': 'ovo', 'clf__degree': 3, 'clf__gamma': 'auto', 'clf__kernel': 'precomputed'}\n",
      "0.718 (+/-0.009) for {'clf__C': 1000, 'clf__decision_function_shape': 'ovo', 'clf__degree': 4, 'clf__gamma': 'scale', 'clf__kernel': 'linear'}\n",
      "0.686 (+/-0.006) for {'clf__C': 1000, 'clf__decision_function_shape': 'ovo', 'clf__degree': 4, 'clf__gamma': 'scale', 'clf__kernel': 'poly'}\n",
      "0.796 (+/-0.007) for {'clf__C': 1000, 'clf__decision_function_shape': 'ovo', 'clf__degree': 4, 'clf__gamma': 'scale', 'clf__kernel': 'rbf'}\n",
      "0.692 (+/-0.011) for {'clf__C': 1000, 'clf__decision_function_shape': 'ovo', 'clf__degree': 4, 'clf__gamma': 'scale', 'clf__kernel': 'sigmoid'}\n",
      "nan (+/-nan) for {'clf__C': 1000, 'clf__decision_function_shape': 'ovo', 'clf__degree': 4, 'clf__gamma': 'scale', 'clf__kernel': 'precomputed'}\n",
      "0.718 (+/-0.009) for {'clf__C': 1000, 'clf__decision_function_shape': 'ovo', 'clf__degree': 4, 'clf__gamma': 'auto', 'clf__kernel': 'linear'}\n",
      "0.197 (+/-0.000) for {'clf__C': 1000, 'clf__decision_function_shape': 'ovo', 'clf__degree': 4, 'clf__gamma': 'auto', 'clf__kernel': 'poly'}\n",
      "0.776 (+/-0.009) for {'clf__C': 1000, 'clf__decision_function_shape': 'ovo', 'clf__degree': 4, 'clf__gamma': 'auto', 'clf__kernel': 'rbf'}\n",
      "0.765 (+/-0.006) for {'clf__C': 1000, 'clf__decision_function_shape': 'ovo', 'clf__degree': 4, 'clf__gamma': 'auto', 'clf__kernel': 'sigmoid'}\n",
      "nan (+/-nan) for {'clf__C': 1000, 'clf__decision_function_shape': 'ovo', 'clf__degree': 4, 'clf__gamma': 'auto', 'clf__kernel': 'precomputed'}\n",
      "0.718 (+/-0.009) for {'clf__C': 1000, 'clf__decision_function_shape': 'ovo', 'clf__degree': 5, 'clf__gamma': 'scale', 'clf__kernel': 'linear'}\n",
      "0.581 (+/-0.010) for {'clf__C': 1000, 'clf__decision_function_shape': 'ovo', 'clf__degree': 5, 'clf__gamma': 'scale', 'clf__kernel': 'poly'}\n",
      "0.796 (+/-0.007) for {'clf__C': 1000, 'clf__decision_function_shape': 'ovo', 'clf__degree': 5, 'clf__gamma': 'scale', 'clf__kernel': 'rbf'}\n",
      "0.692 (+/-0.011) for {'clf__C': 1000, 'clf__decision_function_shape': 'ovo', 'clf__degree': 5, 'clf__gamma': 'scale', 'clf__kernel': 'sigmoid'}\n",
      "nan (+/-nan) for {'clf__C': 1000, 'clf__decision_function_shape': 'ovo', 'clf__degree': 5, 'clf__gamma': 'scale', 'clf__kernel': 'precomputed'}\n",
      "0.718 (+/-0.009) for {'clf__C': 1000, 'clf__decision_function_shape': 'ovo', 'clf__degree': 5, 'clf__gamma': 'auto', 'clf__kernel': 'linear'}\n",
      "0.197 (+/-0.000) for {'clf__C': 1000, 'clf__decision_function_shape': 'ovo', 'clf__degree': 5, 'clf__gamma': 'auto', 'clf__kernel': 'poly'}\n",
      "0.776 (+/-0.009) for {'clf__C': 1000, 'clf__decision_function_shape': 'ovo', 'clf__degree': 5, 'clf__gamma': 'auto', 'clf__kernel': 'rbf'}\n",
      "0.765 (+/-0.006) for {'clf__C': 1000, 'clf__decision_function_shape': 'ovo', 'clf__degree': 5, 'clf__gamma': 'auto', 'clf__kernel': 'sigmoid'}\n",
      "nan (+/-nan) for {'clf__C': 1000, 'clf__decision_function_shape': 'ovo', 'clf__degree': 5, 'clf__gamma': 'auto', 'clf__kernel': 'precomputed'}\n",
      "0.718 (+/-0.009) for {'clf__C': 1000, 'clf__decision_function_shape': 'ovr', 'clf__degree': 3, 'clf__gamma': 'scale', 'clf__kernel': 'linear'}\n",
      "0.759 (+/-0.004) for {'clf__C': 1000, 'clf__decision_function_shape': 'ovr', 'clf__degree': 3, 'clf__gamma': 'scale', 'clf__kernel': 'poly'}\n",
      "0.796 (+/-0.007) for {'clf__C': 1000, 'clf__decision_function_shape': 'ovr', 'clf__degree': 3, 'clf__gamma': 'scale', 'clf__kernel': 'rbf'}\n",
      "0.692 (+/-0.011) for {'clf__C': 1000, 'clf__decision_function_shape': 'ovr', 'clf__degree': 3, 'clf__gamma': 'scale', 'clf__kernel': 'sigmoid'}\n",
      "nan (+/-nan) for {'clf__C': 1000, 'clf__decision_function_shape': 'ovr', 'clf__degree': 3, 'clf__gamma': 'scale', 'clf__kernel': 'precomputed'}\n",
      "0.718 (+/-0.009) for {'clf__C': 1000, 'clf__decision_function_shape': 'ovr', 'clf__degree': 3, 'clf__gamma': 'auto', 'clf__kernel': 'linear'}\n",
      "0.197 (+/-0.000) for {'clf__C': 1000, 'clf__decision_function_shape': 'ovr', 'clf__degree': 3, 'clf__gamma': 'auto', 'clf__kernel': 'poly'}\n",
      "0.776 (+/-0.009) for {'clf__C': 1000, 'clf__decision_function_shape': 'ovr', 'clf__degree': 3, 'clf__gamma': 'auto', 'clf__kernel': 'rbf'}\n",
      "0.765 (+/-0.006) for {'clf__C': 1000, 'clf__decision_function_shape': 'ovr', 'clf__degree': 3, 'clf__gamma': 'auto', 'clf__kernel': 'sigmoid'}\n",
      "nan (+/-nan) for {'clf__C': 1000, 'clf__decision_function_shape': 'ovr', 'clf__degree': 3, 'clf__gamma': 'auto', 'clf__kernel': 'precomputed'}\n",
      "0.718 (+/-0.009) for {'clf__C': 1000, 'clf__decision_function_shape': 'ovr', 'clf__degree': 4, 'clf__gamma': 'scale', 'clf__kernel': 'linear'}\n",
      "0.686 (+/-0.006) for {'clf__C': 1000, 'clf__decision_function_shape': 'ovr', 'clf__degree': 4, 'clf__gamma': 'scale', 'clf__kernel': 'poly'}\n",
      "0.796 (+/-0.007) for {'clf__C': 1000, 'clf__decision_function_shape': 'ovr', 'clf__degree': 4, 'clf__gamma': 'scale', 'clf__kernel': 'rbf'}\n",
      "0.692 (+/-0.011) for {'clf__C': 1000, 'clf__decision_function_shape': 'ovr', 'clf__degree': 4, 'clf__gamma': 'scale', 'clf__kernel': 'sigmoid'}\n",
      "nan (+/-nan) for {'clf__C': 1000, 'clf__decision_function_shape': 'ovr', 'clf__degree': 4, 'clf__gamma': 'scale', 'clf__kernel': 'precomputed'}\n",
      "0.718 (+/-0.009) for {'clf__C': 1000, 'clf__decision_function_shape': 'ovr', 'clf__degree': 4, 'clf__gamma': 'auto', 'clf__kernel': 'linear'}\n",
      "0.197 (+/-0.000) for {'clf__C': 1000, 'clf__decision_function_shape': 'ovr', 'clf__degree': 4, 'clf__gamma': 'auto', 'clf__kernel': 'poly'}\n",
      "0.776 (+/-0.009) for {'clf__C': 1000, 'clf__decision_function_shape': 'ovr', 'clf__degree': 4, 'clf__gamma': 'auto', 'clf__kernel': 'rbf'}\n",
      "0.765 (+/-0.006) for {'clf__C': 1000, 'clf__decision_function_shape': 'ovr', 'clf__degree': 4, 'clf__gamma': 'auto', 'clf__kernel': 'sigmoid'}\n",
      "nan (+/-nan) for {'clf__C': 1000, 'clf__decision_function_shape': 'ovr', 'clf__degree': 4, 'clf__gamma': 'auto', 'clf__kernel': 'precomputed'}\n",
      "0.718 (+/-0.009) for {'clf__C': 1000, 'clf__decision_function_shape': 'ovr', 'clf__degree': 5, 'clf__gamma': 'scale', 'clf__kernel': 'linear'}\n",
      "0.581 (+/-0.010) for {'clf__C': 1000, 'clf__decision_function_shape': 'ovr', 'clf__degree': 5, 'clf__gamma': 'scale', 'clf__kernel': 'poly'}\n",
      "0.796 (+/-0.007) for {'clf__C': 1000, 'clf__decision_function_shape': 'ovr', 'clf__degree': 5, 'clf__gamma': 'scale', 'clf__kernel': 'rbf'}\n",
      "0.692 (+/-0.011) for {'clf__C': 1000, 'clf__decision_function_shape': 'ovr', 'clf__degree': 5, 'clf__gamma': 'scale', 'clf__kernel': 'sigmoid'}\n",
      "nan (+/-nan) for {'clf__C': 1000, 'clf__decision_function_shape': 'ovr', 'clf__degree': 5, 'clf__gamma': 'scale', 'clf__kernel': 'precomputed'}\n",
      "0.718 (+/-0.009) for {'clf__C': 1000, 'clf__decision_function_shape': 'ovr', 'clf__degree': 5, 'clf__gamma': 'auto', 'clf__kernel': 'linear'}\n",
      "0.197 (+/-0.000) for {'clf__C': 1000, 'clf__decision_function_shape': 'ovr', 'clf__degree': 5, 'clf__gamma': 'auto', 'clf__kernel': 'poly'}\n",
      "0.776 (+/-0.009) for {'clf__C': 1000, 'clf__decision_function_shape': 'ovr', 'clf__degree': 5, 'clf__gamma': 'auto', 'clf__kernel': 'rbf'}\n",
      "0.765 (+/-0.006) for {'clf__C': 1000, 'clf__decision_function_shape': 'ovr', 'clf__degree': 5, 'clf__gamma': 'auto', 'clf__kernel': 'sigmoid'}\n",
      "nan (+/-nan) for {'clf__C': 1000, 'clf__decision_function_shape': 'ovr', 'clf__degree': 5, 'clf__gamma': 'auto', 'clf__kernel': 'precomputed'}\n",
      "\n",
      "Detailed classification report:\n",
      "\n",
      "The model is trained on the full development set.\n",
      "The scores are computed on the full evaluation set.\n",
      "\n",
      "              precision    recall  f1-score   support\n",
      "\n",
      "   brazilian       0.81      0.61      0.69       147\n",
      "     british       0.64      0.55      0.59       242\n",
      "cajun_creole       0.81      0.71      0.75       495\n",
      "     chinese       0.78      0.87      0.82       760\n",
      "    filipino       0.77      0.64      0.69       200\n",
      "      french       0.64      0.67      0.65       820\n",
      "       greek       0.80      0.73      0.76       354\n",
      "      indian       0.88      0.91      0.90       899\n",
      "       irish       0.68      0.53      0.59       207\n",
      "     italian       0.82      0.91      0.86      2351\n",
      "    jamaican       0.91      0.70      0.79       135\n",
      "    japanese       0.84      0.69      0.76       443\n",
      "      korean       0.89      0.80      0.84       249\n",
      "     mexican       0.91      0.93      0.92      1957\n",
      "    moroccan       0.85      0.77      0.81       237\n",
      "     russian       0.64      0.49      0.55       144\n",
      " southern_us       0.74      0.81      0.77      1289\n",
      "     spanish       0.69      0.51      0.59       282\n",
      "        thai       0.83      0.79      0.81       484\n",
      "  vietnamese       0.77      0.61      0.68       238\n",
      "\n",
      "    accuracy                           0.80     11933\n",
      "   macro avg       0.78      0.71      0.74     11933\n",
      "weighted avg       0.80      0.80      0.80     11933\n",
      "\n",
      "\n"
     ]
    }
   ],
   "source": [
    "scores = ['accuracy']\n",
    "\n",
    "for score in scores:\n",
    "    print(\"# Tuning hyper-parameters for %s\" % score)\n",
    "    print()\n",
    "\n",
    "    grid = GridSearchCV(SVC_Pipeline, param_grid = tuned_parameters, scoring= score, verbose = 5, n_jobs = 4)\n",
    "    grid.fit(x_train, y_train)\n",
    "\n",
    "    print(\"Best parameters set found on development set:\")\n",
    "    print()\n",
    "    print(grid.best_params_)\n",
    "    print()\n",
    "    print(\"Grid scores on development set:\")\n",
    "    print()\n",
    "    means = grid.cv_results_['mean_test_score']\n",
    "    stds = grid.cv_results_['std_test_score']\n",
    "    for mean, std, params in zip(means, stds, grid.cv_results_['params']):\n",
    "        print(\"%0.3f (+/-%0.03f) for %r\"\n",
    "              % (mean, std * 2, params))\n",
    "    print()\n",
    "    print(\"Detailed classification report:\")\n",
    "    print()\n",
    "    print(\"The model is trained on the full development set.\")\n",
    "    print(\"The scores are computed on the full evaluation set.\")\n",
    "    print()\n",
    "    y_true, y_pred = y_vald, grid.predict(x_vald)\n",
    "    print(classification_report(y_true, y_pred))\n",
    "    print()"
   ]
  },
  {
   "cell_type": "markdown",
   "metadata": {},
   "source": [
    "After a loooong time run, we found that best parameters are:\n",
    "> - { <br>\n",
    "    'clf__C': 10, <br>\n",
    "    'clf__decision_function_shape': 'ovo', <br>\n",
    "    'clf__degree': 3, <br>\n",
    "    'clf__gamma': 'scale', <br>\n",
    "    'clf__kernel': 'rbf' <br>\n",
    "    }"
   ]
  },
  {
   "cell_type": "markdown",
   "metadata": {},
   "source": [
    "### Train Best Model Again"
   ]
  },
  {
   "cell_type": "markdown",
   "metadata": {},
   "source": [
    "we will now re-train the model will whole train file data (train+vald) so more data may increase the accuracy .."
   ]
  },
  {
   "cell_type": "code",
   "execution_count": 17,
   "metadata": {},
   "outputs": [
    {
     "data": {
      "text/plain": [
       "Pipeline(memory=None,\n",
       "         steps=[('pre',\n",
       "                 <__main__.text_preprocessing object at 0x0000028A96A817B8>),\n",
       "                ('vect',\n",
       "                 CountVectorizer(analyzer='word', binary=False,\n",
       "                                 decode_error='strict',\n",
       "                                 dtype=<class 'numpy.int64'>, encoding='utf-8',\n",
       "                                 input='content', lowercase=True, max_df=1.0,\n",
       "                                 max_features=None, min_df=1,\n",
       "                                 ngram_range=(1, 1), preprocessor=None,\n",
       "                                 stop_words=None, strip_accents=None...\n",
       "                                 tokenizer=None, vocabulary=None)),\n",
       "                ('tfidf',\n",
       "                 TfidfTransformer(norm='l2', smooth_idf=True,\n",
       "                                  sublinear_tf=False, use_idf=True)),\n",
       "                ('clf',\n",
       "                 SVC(C=10, break_ties=False, cache_size=200, class_weight=None,\n",
       "                     coef0=0.0, decision_function_shape='ovo', degree=3,\n",
       "                     gamma='scale', kernel='rbf', max_iter=-1,\n",
       "                     probability=False, random_state=None, shrinking=True,\n",
       "                     tol=0.001, verbose=False))],\n",
       "         verbose=False)"
      ]
     },
     "execution_count": 17,
     "metadata": {},
     "output_type": "execute_result"
    }
   ],
   "source": [
    "SVC_Pipeline = Pipeline([\n",
    "                ('pre', text_preprocessing()),\n",
    "                ('vect', CountVectorizer()),\n",
    "                ('tfidf', TfidfTransformer()),\n",
    "                ('clf', SVC(\n",
    "                            C= 10,\n",
    "                            decision_function_shape= 'ovo',\n",
    "                            degree= 3,\n",
    "                            gamma= 'scale',\n",
    "                            kernel= 'rbf'\n",
    "                            )) # best parameters(GSearch)\n",
    "              ])\n",
    "\n",
    "SVC_Pipeline.fit(X , Y )"
   ]
  },
  {
   "cell_type": "markdown",
   "metadata": {},
   "source": [
    "### Submission File"
   ]
  },
  {
   "cell_type": "markdown",
   "metadata": {},
   "source": [
    "we goona store the final predicted output then we will submit the file to be evaluated by Kaggle"
   ]
  },
  {
   "cell_type": "code",
   "execution_count": 19,
   "metadata": {},
   "outputs": [],
   "source": [
    "pd.DataFrame(\n",
    "             { 'id' : test_row_df['id'],\n",
    "               'cuisine': SVC_Pipeline.predict(x_test)\n",
    "             }\n",
    "            )\\\n",
    "  .to_csv(\"data/submission.csv\", index=False)"
   ]
  },
  {
   "cell_type": "markdown",
   "metadata": {},
   "source": [
    "And here is the Kaggle Evaluation result 🥳🥳🥳 .."
   ]
  },
  {
   "attachments": {
    "image.png": {
     "image/png": "[encoded data removed]"
    }
   },
   "cell_type": "markdown",
   "metadata": {},
   "source": [
    "![image.png](attachment:image.png)"
   ]
  }
 ],
 "metadata": {
  "kernelspec": {
   "display_name": "Python 3.7.1 64-bit ('Data Science': conda)",
   "language": "python",
   "name": "python37164bitdatasciencecondaa438e19ea2f6411f931e5fb9b36d623e"
  },
  "language_info": {
   "codemirror_mode": {
    "name": "ipython",
    "version": 3
   },
   "file_extension": ".py",
   "mimetype": "text/x-python",
   "name": "python",
   "nbconvert_exporter": "python",
   "pygments_lexer": "ipython3",
   "version": "3.7.1"
  }
 },
 "nbformat": 4,
 "nbformat_minor": 4
}
